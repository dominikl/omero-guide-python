{
 "cells": [
  {
   "cell_type": "markdown",
   "metadata": {},
   "source": [
    "# Simple FRAP script"
   ]
  },
  {
   "cell_type": "markdown",
   "metadata": {},
   "source": [
    "This script analyses all Images in a Dataset, measuring the intensity in a named Channel within a ROI. The intensity is plotted over time."
   ]
  },
  {
   "cell_type": "markdown",
   "metadata": {},
   "source": [
    "### Import packages"
   ]
  },
  {
   "cell_type": "code",
   "execution_count": 19,
   "metadata": {},
   "outputs": [],
   "source": [
    "from PIL import Image\n",
    "import numpy as np\n",
    "import matplotlib\n",
    "import matplotlib.pyplot as plt\n",
    "from numpy import array, int8\n",
    "from skimage import feature\n",
    "from scipy.ndimage import convolve\n",
    "from scipy import misc\n",
    "from scipy import ndimage\n",
    "from omero.model import EllipseI"
   ]
  },
  {
   "cell_type": "markdown",
   "metadata": {},
   "source": [
    "### Create a connection to the OMERO Server"
   ]
  },
  {
   "cell_type": "code",
   "execution_count": 20,
   "metadata": {},
   "outputs": [],
   "source": [
    "from omero.gateway import BlitzGateway\n",
    "\n",
    "from getpass import getpass\n",
    "\n",
    "HOST = 'merge-ci-devspace.openmicroscopy.org'\n",
    "PORT = 4064\n",
    "conn = BlitzGateway(raw_input(\"Username: \"), getpass(\"OMERO Password: \"), host=HOST, port=PORT)\n",
    "conn.connect()"
   ]
  },
  {
   "cell_type": "code",
   "execution_count": 28,
   "metadata": {},
   "outputs": [],
   "source": [
    "dataset_id = 5220\n",
    "dataset = conn.getObject(\"Dataset\", dataset_id)\n",
    "images = []\n",
    "for image in dataset.listChildren():\n",
    "    print image.id, image.name\n",
    "    images.append(image)\n",
    "images = images[:2]"
   ]
  },
  {
   "cell_type": "code",
   "execution_count": 29,
   "metadata": {},
   "outputs": [],
   "source": [
    "def getEllipse(image):\n",
    "    roi_service = conn.getRoiService()\n",
    "    result = roi_service.findByImage(image.getId(), None)\n",
    "    # Simply return any Ellipse we find...\n",
    "    shape_id = None\n",
    "    for roi in result.rois:\n",
    "        print \"ROI:  ID:\", roi.getId().getValue()\n",
    "        for s in roi.copyShapes():\n",
    "            if type(s) == EllipseI:\n",
    "                shape_id = s.id.val\n",
    "    print \"Shape:\", shape_id\n",
    "    return shape_id"
   ]
  },
  {
   "cell_type": "code",
   "execution_count": 30,
   "metadata": {},
   "outputs": [],
   "source": [
    "def getMeanIntensities(image, shape_id):\n",
    "    # Get pixel intensities for first Channel\n",
    "    roi_service = conn.getRoiService()\n",
    "    the_c = 0\n",
    "    the_z = 0\n",
    "    size_t = image.getSizeT()\n",
    "    print 'SizeT', size_t\n",
    "    meanvalues = []\n",
    "    for t in range(size_t):\n",
    "        stats = roi_service.getShapeStatsRestricted([shape_id],\n",
    "                                                    the_z, t, [the_c])\n",
    "        meanvalues.append(stats[0].mean[the_c])\n",
    "\n",
    "    print meanvalues"
   ]
  },
  {
   "cell_type": "code",
   "execution_count": 32,
   "metadata": {},
   "outputs": [],
   "source": [
    "for image in images:\n",
    "    shape_id = getEllipse(image)\n",
    "    if shape_id is None:\n",
    "        continue\n",
    "    intensities = getMeanIntensities(image, shape_id)"
   ]
  },
  {
   "cell_type": "markdown",
   "metadata": {},
   "source": [
    "<br>\n",
    "#### When you are completely finished running the notebook close the connection to OMERO server"
   ]
  },
  {
   "cell_type": "code",
   "execution_count": null,
   "metadata": {},
   "outputs": [],
   "source": [
    "conn.close()"
   ]
  }
 ],
 "metadata": {
  "kernelspec": {
   "display_name": "OMERO Python 2",
   "language": "python",
   "name": "python2"
  },
  "language_info": {
   "codemirror_mode": {
    "name": "ipython",
    "version": 2
   },
   "file_extension": ".py",
   "mimetype": "text/x-python",
   "name": "python",
   "nbconvert_exporter": "python",
   "pygments_lexer": "ipython2",
   "version": "2.7.15"
  }
 },
 "nbformat": 4,
 "nbformat_minor": 2
}
